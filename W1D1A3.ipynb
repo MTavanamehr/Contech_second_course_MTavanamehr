{
 "cells": [
  {
   "cell_type": "code",
   "execution_count": 1,
   "id": "e2ad2752",
   "metadata": {},
   "outputs": [
    {
     "name": "stdout",
     "output_type": "stream",
     "text": [
      "Please input the length of the room: 2\n",
      "Please input the Width of the room: 3\n",
      "room area that need to be covered:  6.0\n",
      "room perimeter that need to be installed baseboard : 10.0\n"
     ]
    }
   ],
   "source": [
    "length = float(input('Please input the length of the room: '))\n",
    "width = float(input('Please input the Width of the room: '))\n",
    "print(f'room area that need to be covered: ', length*width)\n",
    "print(f'room perimeter that need to be installed baseboard :', 2*(length+width))"
   ]
  },
  {
   "cell_type": "code",
   "execution_count": 1,
   "id": "473a09ad",
   "metadata": {},
   "outputs": [
    {
     "name": "stdout",
     "output_type": "stream",
     "text": [
      "150\n"
     ]
    }
   ],
   "source": [
    "import psycopg2\n",
    "postgresConnection = psycopg2.connect(host=\"192.168.0.246\", port='5432', database=\"postgres\", user=\"postgres\", password=\"1qazXSW@\")\n",
    "cursor = postgresConnection.cursor()\n",
    "select_c = 'select count(*) from iris'\n",
    "cursor.execute(select_c)\n",
    "count_samples = cursor.fetchall()\n",
    "print(count_samples[0][0])"
   ]
  },
  {
   "cell_type": "code",
   "execution_count": 7,
   "id": "5e350a3c",
   "metadata": {},
   "outputs": [
    {
     "name": "stdout",
     "output_type": "stream",
     "text": [
      "0\n",
      "1\n",
      "2\n"
     ]
    }
   ],
   "source": [
    "n = 3\n",
    "for i in range(n):\n",
    "    print(i)"
   ]
  },
  {
   "cell_type": "code",
   "execution_count": null,
   "id": "0ab2f02d",
   "metadata": {},
   "outputs": [],
   "source": []
  }
 ],
 "metadata": {
  "kernelspec": {
   "display_name": "Python 3 (ipykernel)",
   "language": "python",
   "name": "python3"
  },
  "language_info": {
   "codemirror_mode": {
    "name": "ipython",
    "version": 3
   },
   "file_extension": ".py",
   "mimetype": "text/x-python",
   "name": "python",
   "nbconvert_exporter": "python",
   "pygments_lexer": "ipython3",
   "version": "3.10.1"
  }
 },
 "nbformat": 4,
 "nbformat_minor": 5
}
