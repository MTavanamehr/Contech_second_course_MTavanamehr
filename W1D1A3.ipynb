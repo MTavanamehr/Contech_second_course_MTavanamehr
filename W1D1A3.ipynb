{
 "cells": [
  {
   "cell_type": "code",
   "execution_count": 1,
   "id": "e2ad2752",
   "metadata": {},
   "outputs": [
    {
     "name": "stdout",
     "output_type": "stream",
     "text": [
      "Please input the length of the room: 2\n",
      "Please input the Width of the room: 3\n",
      "room area that need to be covered:  6.0\n",
      "room perimeter that need to be installed baseboard : 10.0\n"
     ]
    }
   ],
   "source": [
    "length = float(input('Please input the length of the room: '))\n",
    "width = float(input('Please input the Width of the room: '))\n",
    "print(f'room area that need to be covered: ', length*width)\n",
    "print(f'room perimeter that need to be installed baseboard :', 2*(length+width))"
   ]
  },
  {
   "cell_type": "code",
   "execution_count": null,
   "id": "e12b8e85",
   "metadata": {},
   "outputs": [],
   "source": []
  }
 ],
 "metadata": {
  "kernelspec": {
   "display_name": "Python 3 (ipykernel)",
   "language": "python",
   "name": "python3"
  },
  "language_info": {
   "codemirror_mode": {
    "name": "ipython",
    "version": 3
   },
   "file_extension": ".py",
   "mimetype": "text/x-python",
   "name": "python",
   "nbconvert_exporter": "python",
   "pygments_lexer": "ipython3",
   "version": "3.10.1"
  }
 },
 "nbformat": 4,
 "nbformat_minor": 5
}
